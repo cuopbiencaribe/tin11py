{
  "nbformat": 4,
  "nbformat_minor": 0,
  "metadata": {
    "colab": {
      "provenance": [],
      "authorship_tag": "ABX9TyO9m807N+BOUA/GIazWUTvn",
      "include_colab_link": true
    },
    "kernelspec": {
      "name": "python3",
      "display_name": "Python 3"
    },
    "language_info": {
      "name": "python"
    }
  },
  "cells": [
    {
      "cell_type": "markdown",
      "metadata": {
        "id": "view-in-github",
        "colab_type": "text"
      },
      "source": [
        "<a href=\"https://colab.research.google.com/github/cuopbiencaribe/tin11py/blob/main/Untitled0.ipynb\" target=\"_parent\"><img src=\"https://colab.research.google.com/assets/colab-badge.svg\" alt=\"Open In Colab\"/></a>"
      ]
    },
    {
      "cell_type": "code",
      "source": [
        "def timso(N):\n",
        "    ketqua=[]\n",
        "    for i in range(1,N//2+1):\n",
        "        j=i\n",
        "        tong=i\n",
        "        while tong<N:\n",
        "            j+=1\n",
        "            tong+=j\n",
        "            if tong==N:\n",
        "                ketqua.append(list(range(i,j+1)))\n",
        "    return ketqua\n",
        "print(timso(9))"
      ],
      "metadata": {
        "colab": {
          "base_uri": "https://localhost:8080/"
        },
        "id": "oFgAy3hDd9lg",
        "outputId": "9e87c3e0-19ce-4830-fea5-75dfe4dc6495"
      },
      "execution_count": 4,
      "outputs": [
        {
          "output_type": "stream",
          "name": "stdout",
          "text": [
            "[[2, 3, 4], [4, 5]]\n"
          ]
        }
      ]
    },
    {
      "cell_type": "code",
      "source": [],
      "metadata": {
        "id": "X6OiFuWReXtm"
      },
      "execution_count": null,
      "outputs": []
    },
    {
      "cell_type": "code",
      "execution_count": null,
      "metadata": {
        "id": "PtbGuq-jd6np"
      },
      "outputs": [],
      "source": []
    }
  ]
}